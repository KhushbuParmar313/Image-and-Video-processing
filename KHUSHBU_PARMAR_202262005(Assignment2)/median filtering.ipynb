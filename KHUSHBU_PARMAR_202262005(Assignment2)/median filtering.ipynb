{
 "cells": [
  {
   "cell_type": "code",
   "execution_count": 3,
   "id": "8b4560d2",
   "metadata": {},
   "outputs": [],
   "source": [
    "import cv2"
   ]
  },
  {
   "cell_type": "code",
   "execution_count": 4,
   "id": "d3d8ad93",
   "metadata": {},
   "outputs": [],
   "source": [
    "from cv2 import imread, cvtColor, COLOR_BGR2GRAY, imshow, waitKey\n",
    "from numpy import zeros_like, ravel, sort, multiply, divide, int8\n",
    "from IPython.display import display"
   ]
  },
  {
   "cell_type": "code",
   "execution_count": null,
   "id": "0a008c75",
   "metadata": {},
   "outputs": [],
   "source": [
    "def median_filter(gray_img, mask=3):\n",
    "    \"\"\"\n",
    "    :param gray_img: gray image\n",
    "    :param mask: mask size\n",
    "    :return: image with median filter\n",
    "    \"\"\"\n",
    "    # set image borders\n",
    "    bd = int(mask / 2)\n",
    "    # copy image size\n",
    "    median_img = zeros_like(gray_img)\n",
    "    for i in range(bd, gray_img.shape[0] - bd):\n",
    "        for j in range(bd, gray_img.shape[1] - bd):\n",
    "            # get mask according with mask\n",
    "            kernel = ravel(gray_img[i - bd : i + bd + 1, j - bd : j + bd + 1])\n",
    "            # calculate mask median\n",
    "            median = sort(kernel)[int8(divide((multiply(mask, mask)), 2) + 1)]\n",
    "            median_img[i, j] = median\n",
    "    return median_img\n",
    " \n",
    " \n",
    "if __name__ == \"__main__\":\n",
    "    # read original image\n",
    "    \n",
    "    img = imread(r\"C:\\Users\\LENOVO\\Downloads\\EmbeddedImage.jpg\")\n",
    "    # turn image in gray scale value\n",
    "    gray = cvtColor(img, COLOR_BGR2GRAY)\n",
    " \n",
    "    # get values with two different mask size\n",
    "    median3x3 = median_filter(gray, 3)\n",
    "    median5x5 = median_filter(gray, 5)\n",
    " \n",
    "    # show result images\n",
    "    imshow(\"median filter with 3x3 mask\", median3x3)\n",
    "    imshow(\"median filter with 5x5 mask\", median5x5)\n",
    "    waitKey(0)"
   ]
  }
 ],
 "metadata": {
  "kernelspec": {
   "display_name": "Python 3 (ipykernel)",
   "language": "python",
   "name": "python3"
  },
  "language_info": {
   "codemirror_mode": {
    "name": "ipython",
    "version": 3
   },
   "file_extension": ".py",
   "mimetype": "text/x-python",
   "name": "python",
   "nbconvert_exporter": "python",
   "pygments_lexer": "ipython3",
   "version": "3.9.12"
  }
 },
 "nbformat": 4,
 "nbformat_minor": 5
}
